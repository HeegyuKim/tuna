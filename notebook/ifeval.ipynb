{
 "cells": [
  {
   "cell_type": "markdown",
   "metadata": {},
   "source": [
    "\n",
    "```\n",
    "pip install git+https://github.com/josejg/instruction_following_eval.git\n",
    "```"
   ]
  },
  {
   "cell_type": "code",
   "execution_count": 5,
   "metadata": {},
   "outputs": [],
   "source": [
    "from instruction_following_eval import default_examples, instruction_following_eval\n",
    "import pandas as pd\n",
    "import jsonlines\n",
    "import os\n",
    "from pprint import pprint\n",
    "from glob import glob"
   ]
  },
  {
   "cell_type": "code",
   "execution_count": 8,
   "metadata": {},
   "outputs": [
    {
     "name": "stdout",
     "output_type": "stream",
     "text": [
      "0.27912535420943224\n"
     ]
    },
    {
     "data": {
      "text/html": [
       "<div>\n",
       "<style scoped>\n",
       "    .dataframe tbody tr th:only-of-type {\n",
       "        vertical-align: middle;\n",
       "    }\n",
       "\n",
       "    .dataframe tbody tr th {\n",
       "        vertical-align: top;\n",
       "    }\n",
       "\n",
       "    .dataframe thead th {\n",
       "        text-align: right;\n",
       "    }\n",
       "</style>\n",
       "<table border=\"1\" class=\"dataframe\">\n",
       "  <thead>\n",
       "    <tr style=\"text-align: right;\">\n",
       "      <th></th>\n",
       "      <th>generator</th>\n",
       "      <th>accuracy</th>\n",
       "    </tr>\n",
       "  </thead>\n",
       "  <tbody>\n",
       "    <tr>\n",
       "      <th>0</th>\n",
       "      <td>heegyu/TinyLlama__TinyLlama-1.1B-intermediate-...</td>\n",
       "      <td>0.279125</td>\n",
       "    </tr>\n",
       "  </tbody>\n",
       "</table>\n",
       "</div>"
      ],
      "text/plain": [
       "                                           generator  accuracy\n",
       "0  heegyu/TinyLlama__TinyLlama-1.1B-intermediate-...  0.279125"
      ]
     },
     "execution_count": 8,
     "metadata": {},
     "output_type": "execute_result"
    }
   ],
   "source": [
    "files = glob(\"../outputs/*/*/ifeval.json\")\n",
    "dfs = []\n",
    "\n",
    "for file in files:\n",
    "    examples = list(jsonlines.open(file))\n",
    "    generator = examples[0]['generator']\n",
    "    for example in examples:\n",
    "        # example[\"response\"] = example.pop(\"output\")\n",
    "        example.pop(\"generator\")\n",
    "\n",
    "    accuracy = instruction_following_eval(examples)[0]['average']\n",
    "    pprint(accuracy)\n",
    "    dfs.append({\n",
    "        \"generator\": generator,\n",
    "        \"accuracy\": accuracy\n",
    "    })\n",
    "    \n",
    "df = pd.DataFrame(dfs)\n",
    "df"
   ]
  },
  {
   "cell_type": "code",
   "execution_count": null,
   "metadata": {},
   "outputs": [],
   "source": []
  }
 ],
 "metadata": {
  "kernelspec": {
   "display_name": "qax",
   "language": "python",
   "name": "python3"
  },
  "language_info": {
   "codemirror_mode": {
    "name": "ipython",
    "version": 3
   },
   "file_extension": ".py",
   "mimetype": "text/x-python",
   "name": "python",
   "nbconvert_exporter": "python",
   "pygments_lexer": "ipython3",
   "version": "3.10.13"
  }
 },
 "nbformat": 4,
 "nbformat_minor": 2
}
