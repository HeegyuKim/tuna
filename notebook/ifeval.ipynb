{
 "cells": [
  {
   "cell_type": "markdown",
   "metadata": {},
   "source": [
    "\n",
    "```\n",
    "pip install git+https://github.com/josejg/instruction_following_eval.git\n",
    "```"
   ]
  },
  {
   "cell_type": "code",
   "execution_count": 2,
   "metadata": {},
   "outputs": [],
   "source": [
    "from instruction_following_eval import default_examples, instruction_following_eval\n",
    "import pandas as pd\n",
    "import jsonlines\n",
    "import os\n",
    "from glob import glob"
   ]
  },
  {
   "cell_type": "code",
   "execution_count": 6,
   "metadata": {},
   "outputs": [
    {
     "ename": "TypeError",
     "evalue": "CommaChecker.build_description() got an unexpected keyword argument 'num_highlights'",
     "output_type": "error",
     "traceback": [
      "\u001b[0;31m---------------------------------------------------------------------------\u001b[0m",
      "\u001b[0;31mTypeError\u001b[0m                                 Traceback (most recent call last)",
      "Cell \u001b[0;32mIn[6], line 11\u001b[0m\n\u001b[1;32m      8\u001b[0m         example[\u001b[38;5;124m\"\u001b[39m\u001b[38;5;124mresponse\u001b[39m\u001b[38;5;124m\"\u001b[39m] \u001b[38;5;241m=\u001b[39m example\u001b[38;5;241m.\u001b[39mpop(\u001b[38;5;124m\"\u001b[39m\u001b[38;5;124moutput\u001b[39m\u001b[38;5;124m\"\u001b[39m)\n\u001b[1;32m      9\u001b[0m         example\u001b[38;5;241m.\u001b[39mpop(\u001b[38;5;124m\"\u001b[39m\u001b[38;5;124mgenerator\u001b[39m\u001b[38;5;124m\"\u001b[39m)\n\u001b[0;32m---> 11\u001b[0m     accuracy \u001b[38;5;241m=\u001b[39m \u001b[43minstruction_following_eval\u001b[49m\u001b[43m(\u001b[49m\u001b[43mexamples\u001b[49m\u001b[43m)\u001b[49m\n\u001b[1;32m     12\u001b[0m     dfs\u001b[38;5;241m.\u001b[39mappend({\n\u001b[1;32m     13\u001b[0m         \u001b[38;5;124m\"\u001b[39m\u001b[38;5;124mfile\u001b[39m\u001b[38;5;124m\"\u001b[39m: file,\n\u001b[1;32m     14\u001b[0m         \u001b[38;5;124m\"\u001b[39m\u001b[38;5;124mgenerator\u001b[39m\u001b[38;5;124m\"\u001b[39m: generator,\n\u001b[1;32m     15\u001b[0m         \u001b[38;5;124m\"\u001b[39m\u001b[38;5;124maccuracy\u001b[39m\u001b[38;5;124m\"\u001b[39m: accuracy\n\u001b[1;32m     16\u001b[0m     })\n\u001b[1;32m     18\u001b[0m df \u001b[38;5;241m=\u001b[39m pd\u001b[38;5;241m.\u001b[39mconcat(dfs)\n",
      "File \u001b[0;32m~/miniconda/envs/qax/lib/python3.10/site-packages/instruction_following_eval/evaluation.py:84\u001b[0m, in \u001b[0;36minstruction_following_eval\u001b[0;34m(examples, strict)\u001b[0m\n\u001b[1;32m     79\u001b[0m eval_fn \u001b[38;5;241m=\u001b[39m {\n\u001b[1;32m     80\u001b[0m     \u001b[38;5;28;01mTrue\u001b[39;00m: test_instruction_following_strict,\n\u001b[1;32m     81\u001b[0m     \u001b[38;5;28;01mFalse\u001b[39;00m: test_instruction_following_loose,\n\u001b[1;32m     82\u001b[0m }[strict]\n\u001b[1;32m     83\u001b[0m fmt_examples \u001b[38;5;241m=\u001b[39m [InstructionResult(\u001b[38;5;241m*\u001b[39m\u001b[38;5;241m*\u001b[39mexample) \u001b[38;5;28;01mfor\u001b[39;00m example \u001b[38;5;129;01min\u001b[39;00m examples]\n\u001b[0;32m---> 84\u001b[0m logs \u001b[38;5;241m=\u001b[39m \u001b[38;5;28;43msum\u001b[39;49m\u001b[43m(\u001b[49m\u001b[43m(\u001b[49m\u001b[43meval_fn\u001b[49m\u001b[43m(\u001b[49m\u001b[43mexample\u001b[49m\u001b[43m)\u001b[49m\u001b[38;5;241;43m.\u001b[39;49m\u001b[43mas_logs\u001b[49m\u001b[43m(\u001b[49m\u001b[43m)\u001b[49m\u001b[43m \u001b[49m\u001b[38;5;28;43;01mfor\u001b[39;49;00m\u001b[43m \u001b[49m\u001b[43mexample\u001b[49m\u001b[43m \u001b[49m\u001b[38;5;129;43;01min\u001b[39;49;00m\u001b[43m \u001b[49m\u001b[43mfmt_examples\u001b[49m\u001b[43m)\u001b[49m\u001b[43m,\u001b[49m\u001b[43m \u001b[49m\u001b[43mstart\u001b[49m\u001b[38;5;241;43m=\u001b[39;49m\u001b[43m[\u001b[49m\u001b[43m]\u001b[49m\u001b[43m)\u001b[49m\n\u001b[1;32m     86\u001b[0m results \u001b[38;5;241m=\u001b[39m pd\u001b[38;5;241m.\u001b[39mDataFrame\u001b[38;5;241m.\u001b[39mfrom_records(logs)\n\u001b[1;32m     87\u001b[0m by_category \u001b[38;5;241m=\u001b[39m results\u001b[38;5;241m.\u001b[39mgroupby([\u001b[38;5;124m\"\u001b[39m\u001b[38;5;124mgroup\u001b[39m\u001b[38;5;124m\"\u001b[39m, \u001b[38;5;124m\"\u001b[39m\u001b[38;5;124mcategory\u001b[39m\u001b[38;5;124m\"\u001b[39m], as_index\u001b[38;5;241m=\u001b[39m\u001b[38;5;28;01mFalse\u001b[39;00m)\u001b[38;5;241m.\u001b[39mfollow\u001b[38;5;241m.\u001b[39mmean()\n",
      "File \u001b[0;32m~/miniconda/envs/qax/lib/python3.10/site-packages/instruction_following_eval/evaluation.py:84\u001b[0m, in \u001b[0;36m<genexpr>\u001b[0;34m(.0)\u001b[0m\n\u001b[1;32m     79\u001b[0m eval_fn \u001b[38;5;241m=\u001b[39m {\n\u001b[1;32m     80\u001b[0m     \u001b[38;5;28;01mTrue\u001b[39;00m: test_instruction_following_strict,\n\u001b[1;32m     81\u001b[0m     \u001b[38;5;28;01mFalse\u001b[39;00m: test_instruction_following_loose,\n\u001b[1;32m     82\u001b[0m }[strict]\n\u001b[1;32m     83\u001b[0m fmt_examples \u001b[38;5;241m=\u001b[39m [InstructionResult(\u001b[38;5;241m*\u001b[39m\u001b[38;5;241m*\u001b[39mexample) \u001b[38;5;28;01mfor\u001b[39;00m example \u001b[38;5;129;01min\u001b[39;00m examples]\n\u001b[0;32m---> 84\u001b[0m logs \u001b[38;5;241m=\u001b[39m \u001b[38;5;28msum\u001b[39m((\u001b[43meval_fn\u001b[49m\u001b[43m(\u001b[49m\u001b[43mexample\u001b[49m\u001b[43m)\u001b[49m\u001b[38;5;241m.\u001b[39mas_logs() \u001b[38;5;28;01mfor\u001b[39;00m example \u001b[38;5;129;01min\u001b[39;00m fmt_examples), start\u001b[38;5;241m=\u001b[39m[])\n\u001b[1;32m     86\u001b[0m results \u001b[38;5;241m=\u001b[39m pd\u001b[38;5;241m.\u001b[39mDataFrame\u001b[38;5;241m.\u001b[39mfrom_records(logs)\n\u001b[1;32m     87\u001b[0m by_category \u001b[38;5;241m=\u001b[39m results\u001b[38;5;241m.\u001b[39mgroupby([\u001b[38;5;124m\"\u001b[39m\u001b[38;5;124mgroup\u001b[39m\u001b[38;5;124m\"\u001b[39m, \u001b[38;5;124m\"\u001b[39m\u001b[38;5;124mcategory\u001b[39m\u001b[38;5;124m\"\u001b[39m], as_index\u001b[38;5;241m=\u001b[39m\u001b[38;5;28;01mFalse\u001b[39;00m)\u001b[38;5;241m.\u001b[39mfollow\u001b[38;5;241m.\u001b[39mmean()\n",
      "File \u001b[0;32m~/miniconda/envs/qax/lib/python3.10/site-packages/instruction_following_eval/evaluation.py:104\u001b[0m, in \u001b[0;36mtest_instruction_following_strict\u001b[0;34m(example)\u001b[0m\n\u001b[1;32m    101\u001b[0m instruction_cls \u001b[38;5;241m=\u001b[39m instructions_registry\u001b[38;5;241m.\u001b[39mINSTRUCTION_DICT[instruction_id]\n\u001b[1;32m    102\u001b[0m instruction \u001b[38;5;241m=\u001b[39m instruction_cls(instruction_id)\n\u001b[0;32m--> 104\u001b[0m \u001b[43minstruction\u001b[49m\u001b[38;5;241;43m.\u001b[39;49m\u001b[43mbuild_description\u001b[49m\u001b[43m(\u001b[49m\u001b[38;5;241;43m*\u001b[39;49m\u001b[38;5;241;43m*\u001b[39;49m\u001b[43mexample\u001b[49m\u001b[38;5;241;43m.\u001b[39;49m\u001b[43mkwargs\u001b[49m\u001b[43m[\u001b[49m\u001b[43mindex\u001b[49m\u001b[43m]\u001b[49m\u001b[43m)\u001b[49m\n\u001b[1;32m    105\u001b[0m args \u001b[38;5;241m=\u001b[39m instruction\u001b[38;5;241m.\u001b[39mget_instruction_args()\n\u001b[1;32m    106\u001b[0m \u001b[38;5;28;01mif\u001b[39;00m args \u001b[38;5;129;01mand\u001b[39;00m \u001b[38;5;124m\"\u001b[39m\u001b[38;5;124mprompt\u001b[39m\u001b[38;5;124m\"\u001b[39m \u001b[38;5;129;01min\u001b[39;00m args:\n",
      "\u001b[0;31mTypeError\u001b[0m: CommaChecker.build_description() got an unexpected keyword argument 'num_highlights'"
     ]
    }
   ],
   "source": [
    "files = glob(\"../outputs/*/*/ifeval.json\")\n",
    "dfs = []\n",
    "\n",
    "for file in files:\n",
    "    examples = list(jsonlines.open(file))\n",
    "    generator = examples[0]['generator']\n",
    "    for example in examples:\n",
    "        # example[\"response\"] = example.pop(\"output\")\n",
    "        example.pop(\"generator\")\n",
    "\n",
    "    accuracy = instruction_following_eval(examples)\n",
    "    dfs.append({\n",
    "        \"file\": file,\n",
    "        \"generator\": generator,\n",
    "        \"accuracy\": accuracy\n",
    "    })\n",
    "    \n",
    "df = pd.concat(dfs)\n",
    "df"
   ]
  }
 ],
 "metadata": {
  "kernelspec": {
   "display_name": "qax",
   "language": "python",
   "name": "python3"
  },
  "language_info": {
   "codemirror_mode": {
    "name": "ipython",
    "version": 3
   },
   "file_extension": ".py",
   "mimetype": "text/x-python",
   "name": "python",
   "nbconvert_exporter": "python",
   "pygments_lexer": "ipython3",
   "version": "3.10.13"
  }
 },
 "nbformat": 4,
 "nbformat_minor": 2
}
