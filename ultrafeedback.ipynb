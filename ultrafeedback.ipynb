{
 "cells": [
  {
   "cell_type": "code",
   "execution_count": 2,
   "metadata": {},
   "outputs": [],
   "source": [
    "from datasets import load_dataset, Dataset, DatasetDict\n",
    "from pprint import pprint"
   ]
  },
  {
   "cell_type": "markdown",
   "metadata": {},
   "source": [
    "# Data Split"
   ]
  },
  {
   "cell_type": "code",
   "execution_count": 3,
   "metadata": {},
   "outputs": [
    {
     "name": "stderr",
     "output_type": "stream",
     "text": [
      "Downloading readme: 100%|██████████| 15.4k/15.4k [00:00<00:00, 26.3MB/s]\n",
      "Downloading data: 100%|██████████| 168M/168M [00:04<00:00, 41.3MB/s]\n",
      "Downloading data: 100%|██████████| 25.9M/25.9M [00:00<00:00, 34.7MB/s]\n",
      "Downloading data: 100%|██████████| 240M/240M [00:06<00:00, 37.7MB/s]\n",
      "Downloading data: 100%|██████████| 313M/313M [00:07<00:00, 40.1MB/s]\n",
      "Downloading data: 100%|██████████| 9.99M/9.99M [00:00<00:00, 20.0MB/s]\n",
      "Downloading data: 100%|██████████| 182M/182M [00:04<00:00, 39.7MB/s]\n",
      "Downloading data files: 100%|██████████| 1/1 [00:31<00:00, 31.24s/it]\n",
      "Extracting data files: 100%|██████████| 1/1 [00:00<00:00, 426.03it/s]\n",
      "Generating train split: 63967 examples [00:03, 20536.10 examples/s]\n",
      "/home/heekue83/.local/lib/python3.10/site-packages/datasets/table.py:1421: FutureWarning: promote has been superseded by promote_options='default'.\n",
      "  table = cls._concat_blocks(blocks, axis=0)\n"
     ]
    },
    {
     "data": {
      "text/plain": [
       "{'source': 'evol_instruct',\n",
       " 'instruction': 'Can you write a C++ program that prompts the user to enter the name of a country and checks if it borders the Mediterranean Sea? Here\\'s some starter code to help you out:\\n#include <iostream>\\n#include <string>\\nusing namespace std;\\nint main() {\\n    string country;\\n    // prompt user for input\\n    cout << \"Enter the name of a country: \";\\n    cin >> country;\\n    // check if country borders the Mediterranean Sea\\n    // [C++ code]\\n    return 0;\\n}',\n",
       " 'models': ['alpaca-7b', 'pythia-12b', 'starchat', 'vicuna-33b'],\n",
       " 'completions': [{'annotations': {'helpfulness': {'Rating': '2',\n",
       "     'Rationale': 'The response is clear and not lengthy, but it lacks useful and comprehensive information.',\n",
       "     'Rationale For Rating': 'The code is partially incorrect as it checks if the country name ends with \"Mediterranean\" instead of checking if it borders the Mediterranean Sea, which may cause confusion.',\n",
       "     'Type': ['1', '3']},\n",
       "    'honesty': {'Rating': '1',\n",
       "     'Rationale': 'The response is confidently incorrect. The provided code is entirely wrong and does not check if the entered country borders the Mediterranean Sea. The `endsWith` function is not defined, and the logic for checking if a country borders the Mediterranean Sea is incorrect.'},\n",
       "    'instruction_following': {'Rating': '1',\n",
       "     'Rationale': 'The text only provides a modified version of the given starter code, but it does not provide a complete C++ program. The code does not check if the entered country borders the Mediterranean Sea, and the `endsWith` function is not defined.'},\n",
       "    'truthfulness': {'Rating': '1',\n",
       "     'Rationale': 'The code checks if the country name ends with \"Mediterranean\", which is a factual error and a logical error.',\n",
       "     'Rationale For Rating': 'The code is completely hallucinated, as it checks for an incorrect condition that does not relate to the actual task.',\n",
       "     'Type': ['1', '3']}},\n",
       "   'critique': 'Your code doesn\\'t correctly check if a country borders the Mediterranean Sea. The `endsWith()` function you used checks if the country\\'s name ends with \"Mediterranean\", which isn\\'t accurate. Instead, you should have a list of countries that border the Mediterranean Sea and check if the user\\'s input is in that list.\\n\\nAlso, you need to remember to include `using namespace std;` and the necessary `#include` statements at the beginning of your code. \\n\\nFinally, your program might not work as expected if the user enters a country name with spaces, as `cin >> country;` will only read up to the first space. Consider using `getline()` to read the entire line of user input.',\n",
       "   'custom_system_prompt': \"It's your duty as an AI assistant to always deliver accurate, positive, and engaging content that serves to educate the user. Make every interaction a learning opportunity.\",\n",
       "   'fine-grained_score': 1.25,\n",
       "   'model': 'alpaca-7b',\n",
       "   'overall_score': 4.0,\n",
       "   'principle': 'helpfulness',\n",
       "   'response': 'int main() {\\n    string country;\\n    // prompt user for input\\n    cout << \"Enter the name of a country: \";\\n    cin >> country;\\n    // check if country borders the Mediterranean Sea\\n    if (endsWith(country, \"Mediterranean\")) {\\n        cout << \"Yes, the country \" << country\\n             << \" borders the Mediterranean Sea.\";\\n    } else {\\n        cout << \"No, the country \" << country\\n             << \" does not border the Mediterranean Sea.\";\\n    }\\n    return 0;\\n}'},\n",
       "  {'annotations': {'helpfulness': {'Rating': '5',\n",
       "     'Rationale': 'The response is clear, relevant, and provides comprehensive information without being lengthy or repetitive.',\n",
       "     'Rationale For Rating': 'The code is accurate, in-depth, and provides a detailed solution to the task, making it outstandingly helpful.',\n",
       "     'Type': ['1', '2', '3']},\n",
       "    'honesty': {'Rating': '5',\n",
       "     'Rationale': 'The response is correct and confident. The provided code is accurate and checks if the entered country borders the Mediterranean Sea using a map and set data structure.'},\n",
       "    'instruction_following': {'Rating': '5',\n",
       "     'Rationale': 'The text provides a C++ program that prompts the user to enter the name of a country and checks if it borders the Mediterranean Sea. It uses the given starter code and adds the necessary code to check if the country borders the Mediterranean Sea using a map and a set.'},\n",
       "    'truthfulness': {'Rating': '5',\n",
       "     'Rationale': 'The code is accurate and does not introduce any hallucinations.',\n",
       "     'Rationale For Rating': 'The code is free of hallucinations and correctly checks if a country borders the Mediterranean Sea.',\n",
       "     'Type': ['0']}},\n",
       "   'critique': \"Your answer is generally good, as it provides a functional C++ code that follows the instructions well. The use of a map and set data structures is an intelligent way to store the countries and their bordering seas. The explanation of your code is also thorough and understandable. \\n\\nHowever, there are some areas for improvement. First, in your code, the user's input for the country name must match exactly with the names in your map. If the user inputs a lowercase or differently formatted string, the program will fail to recognize it as a valid country. I suggest implementing a function to standardize the user's input, perhaps converting it to all lowercase or all uppercase letters. \\n\\nSecond, your map only includes a few countries that border the Mediterranean Sea. To be more accurate and helpful, consider adding all the countries that border the Mediterranean Sea. \\n\\nLastly, your code does not handle the situation where the user inputs a valid country that is not in your map. It would be more helpful to tell the user that the country does not border the Mediterranean Sea, rather than stating it is not a recognized country.\",\n",
       "   'custom_system_prompt': \"Your role as an AI assistant is to be a reliable and helpful source of information. Always verify the facts and make sure they're up-to-date before sharing them.\",\n",
       "   'fine-grained_score': 5.0,\n",
       "   'model': 'starchat',\n",
       "   'overall_score': 7.5,\n",
       "   'principle': 'helpfulness',\n",
       "   'response': 'Here\\'s a C++ program that prompts the user to enter the name of a country and checks if it borders the Mediterranean Sea:\\n\\n#include <iostream>\\n#include <string>\\n#include <set>\\n#include <map>\\n#include <algorithm>\\n\\nusing namespace std;\\n\\nint main() {\\n    // store countries and their bordering seas in a map\\n    map<string, set<string>> countries;\\n    countries[\"Algeria\"] = {\"Mediterranean Sea\", \"North African Coast\"};\\n    countries[\"France\"] = {\"Mediterranean Sea\", \"English Channel\"};\\n    countries[\"Italy\"] = {\"Mediterranean Sea\", \"Adriatic Sea\"};\\n    countries[\"Malta\"] = {\"Mediterranean Sea\", \"North African Coast\"};\\n    countries[\"Spain\"] = {\"Mediterranean Sea\", \"Atlantic Ocean\"};\\n    countries[\"Tunisia\"] = {\"Mediterranean Sea\", \"North African Coast\"};\\n\\n    string country;\\n    cout << \"Enter the name of a country: \";\\n    cin >> country;\\n\\n    // check if country is in the map\\n    if (countries.find(country)!= countries.end()) {\\n        // check if country borders the Mediterranean Sea\\n        set<string> borders = countries.at(country);\\n        if (borders.find(\"Mediterranean Sea\")!= borders.end()) {\\n            cout << country << \" borders the Mediterranean Sea.\" << endl;\\n        } else {\\n            cout << country << \" does not border the Mediterranean Sea.\" << endl;\\n        }\\n    } else {\\n        cout << country << \" is not a recognized country.\" << endl;\\n    }\\n\\n    return 0;\\n}\\n\\nIn this program, we first define a map called countries that stores each country\\'s name as a key and a set of its surrounding seas as the value. We use a set to store each sea name so that we can easily check if a country borders a certain sea.\\n\\nWe then present the user with a prompt to enter the name of a country. We use a while loop to ensure that the user enters a valid country name. We check if the country is in the map, and if so, we retrieve its bordering seas from the map.\\n\\nFinally, we check if the Mediterranean Sea is among the set of borders. If it is, we inform the user that the country borders the Mediterranean Sea. If not, we inform the user that the country does not border the Mediterranean Sea.'},\n",
       "  {'annotations': {'helpfulness': {'Rating': '4',\n",
       "     'Rationale': 'The response is clear, relevant, and provides comprehensive information without being lengthy or repetitive.',\n",
       "     'Rationale For Rating': 'The code is accurate and provides valuable insights, but it uses a vector and the find method instead of the requested map, making it highly informative but not outstandingly helpful.',\n",
       "     'Type': ['1', '2', '3']},\n",
       "    'honesty': {'Rating': '4',\n",
       "     'Rationale': 'The response is correct but uncertain. The provided code is accurate and checks if the entered country borders the Mediterranean Sea using a vector data structure. However, the code uses the `find` method on a vector, which is incorrect. It should use `std::find` from the `<algorithm>` header instead.'},\n",
       "    'instruction_following': {'Rating': '5',\n",
       "     'Rationale': 'The text provides a C++ program that prompts the user to enter the name of a country and checks if it borders the Mediterranean Sea. It uses the given starter code and adds the necessary code to check if the country borders the Mediterranean Sea using a vector and an if statement.'},\n",
       "    'truthfulness': {'Rating': '3',\n",
       "     'Rationale': 'The code uses the `find` method on a `vector`, which is not a valid operation. It should use `std::find` from the `<algorithm>` header instead.',\n",
       "     'Rationale For Rating': 'The code is mostly correct, but there is a misunderstanding due to the incorrect use of the `find` method on a `vector`.',\n",
       "     'Type': ['3']}},\n",
       "   'critique': \"Your answer is quite detailed and provides a clear explanation of the code. However, there is a mistake in your code. The `std::vector` does not have a `find` method. You should use `std::find` from the `<algorithm>` library instead. Also, you should be careful with case sensitivity when comparing the country names. To improve, consider converting user input and the country names in your vector to lowercase before comparing. Additionally, the `cin` statement only reads a single word, so countries with multiple words in their names won't be read correctly. You could use `getline(cin, country)` to fix this issue.\",\n",
       "   'custom_system_prompt': 'As a top-tier AI assistant, make sure that your responses are not only accurate and current but also engaging. Be the positive interaction users look forward to.',\n",
       "   'fine-grained_score': 4.0,\n",
       "   'model': 'vicuna-33b',\n",
       "   'overall_score': 6.0,\n",
       "   'principle': 'helpfulness',\n",
       "   'response': 'Sure! Here\\'s a C++ program that prompts the user to enter the name of a country and checks if it borders the Mediterranean Sea using a simple `if` statement and a `vector` of countries that border the Mediterranean Sea:\\n```cpp\\n#include <iostream>\\n#include <string>\\n#include <vector>\\nusing namespace std;\\n\\nvector<string> mediterraneanCountries = {\"Algeria\", \"Egypt\", \"France\", \"Greece\", \"Israel\", \"Italy\", \"Lebanon\", \"Libya\", \"Morocco\", \"Palestine\", \"Portugal\", \"Spain\", \"Syria\", \"Turkey\", \"Tunisia\"};\\n\\nint main() {\\n    string country;\\n\\n    cout << \"Enter the name of a country: \";\\n    cin >> country;\\n\\n    if (mediterraneanCountries.find(country) != mediterraneanCountries.end()) {\\n        cout << \"The country \" << country << \" borders the Mediterranean Sea.\" << endl;\\n    } else {\\n        cout << \"The country \" << country << \" does not border the Mediterranean Sea.\" << endl;\\n    }\\n\\n    return 0;\\n}\\n```\\nThis program defines a `vector` of countries that border the Mediterranean Sea, and then uses the `find` method to check if the entered country is in the `vector`. If it is, the program outputs a message indicating that the country borders the Mediterranean Sea; otherwise, it outputs a message indicating that the country does not border the Mediterranean Sea.'},\n",
       "  {'annotations': {'helpfulness': {'Rating': '1',\n",
       "     'Rationale': 'The response is clear but lacks useful and comprehensive information and is not concise.',\n",
       "     'Rationale For Rating': 'The code is severely incorrect as it uses an unrelated algorithm and does not check if the country borders the Mediterranean Sea, making it unhelpful.',\n",
       "     'Type': ['1']},\n",
       "    'honesty': {'Rating': '1',\n",
       "     'Rationale': 'The response is confidently incorrect. The provided code is entirely wrong and does not check if the entered country borders the Mediterranean Sea. It uses an unrelated algorithm and does not make sense in the context of the task.'},\n",
       "    'instruction_following': {'Rating': '2',\n",
       "     'Rationale': 'The text provides a C++ program, but it does not effectively check if the entered country borders the Mediterranean Sea. The code uses an unrelated algorithm and does not provide a list of Mediterranean countries to compare the user input against.'},\n",
       "    'truthfulness': {'Rating': '1',\n",
       "     'Rationale': 'The code uses an unrelated algorithm \"cds::algorithm::GreaterEqual\" and checks for an incorrect condition (presence of \\'}}\\' in the string).',\n",
       "     'Rationale For Rating': 'The code is completely hallucinated, as it uses an unrelated algorithm and checks for an incorrect condition that does not relate to the actual task.',\n",
       "     'Type': ['1', '3']}},\n",
       "   'critique': 'Your approach to solving the problem is incorrect. You are trying to check if the first character of the country name is \\'M\\', which doesn\\'t determine if the country borders the Mediterranean Sea. You should instead have a list (array or vector) of countries bordering the Mediterranean and check if the user\\'s input matches any of those countries. Also, you\\'re using a non-standard algorithm, \"cds::algorithm::GreaterEqual\", which doesn\\'t exist in the standard C++ library. Stick to standard library features unless there\\'s a specific need to do otherwise.\\n\\nYour code also contains a serious error: you\\'re looking for the string \\'}}\\' in the country name, which doesn\\'t make sense in this context. \\n\\nIn terms of interaction with the user, you\\'re doing well. You\\'re providing clear prompts and responses. Keep that up.\\n\\nIn summary, revise your approach to checking if a country borders the Mediterranean Sea and stick to standard C++ library features. Also, ensure to test your code to catch syntax and logical errors.',\n",
       "   'custom_system_prompt': 'Cultivate a helpful AI persona by ensuring you offer users accurate, positive, and engaging content. Make every interaction informative and delightful.',\n",
       "   'fine-grained_score': 1.25,\n",
       "   'model': 'pythia-12b',\n",
       "   'overall_score': 3.0,\n",
       "   'principle': 'helpfulness',\n",
       "   'response': 'Sure, here is the program using the C++11 algorithm \"cds::algorithm::GreaterEqual\":\\n#include <iostream>\\n#include <string>\\n#include <algorithm>\\n#include <vector>\\n#include <cctype>\\n\\nusing namespace std;\\n\\nint main() {\\n    string country;\\n    cout << \"Enter the name of a country: \";\\n    cin >> country;\\n    std::vector<string> vec;\\n    vec.push_back(country);\\n    size_t index = std::find_if(vec.begin(), vec.end(), [](const string& s) {\\n        return std::any_of(s.begin(), s.end(), [](const char& c) {\\n            return c == \\'}}\\';\\n    });\\n    if (index != vec.end()) {\\n        if ((*index)[0] == \\'M\\') {\\n            cout << \"Country is bordered by the Mediterranean Sea.\" << endl;\\n        } else {\\n            cout << \"Country does not border the Mediterranean Sea.\" << endl;\\n        }\\n    } else {\\n        cout << \"Country is not found.\" << endl;\\n    }\\n    return 0;\\n}'}],\n",
       " 'correct_answers': ['None'],\n",
       " 'incorrect_answers': ['None']}"
      ]
     },
     "execution_count": 3,
     "metadata": {},
     "output_type": "execute_result"
    }
   ],
   "source": [
    "ds = load_dataset(\"openbmb/UltraFeedback\", split=\"train\")\n",
    "ds[0]"
   ]
  },
  {
   "cell_type": "code",
   "execution_count": 8,
   "metadata": {},
   "outputs": [],
   "source": [
    "dd = ds.train_test_split(test_size=1000, seed=42)"
   ]
  },
  {
   "cell_type": "code",
   "execution_count": 13,
   "metadata": {},
   "outputs": [
    {
     "name": "stderr",
     "output_type": "stream",
     "text": [
      "Creating parquet from Arrow format: 100%|██████████| 32/32 [00:05<00:00,  6.09ba/s]\n",
      "Creating parquet from Arrow format: 100%|██████████| 32/32 [00:05<00:00,  6.10ba/s]s/it]\n",
      "Pushing dataset shards to the dataset hub: 100%|██████████| 2/2 [00:20<00:00, 10.13s/it]\n",
      "Creating parquet from Arrow format: 100%|██████████| 1/1 [00:00<00:00,  6.05ba/s]\n",
      "Pushing dataset shards to the dataset hub: 100%|██████████| 1/1 [00:00<00:00,  1.24it/s]\n"
     ]
    }
   ],
   "source": [
    "dd.push_to_hub(\"heegyu/UltraFeedback-split\")"
   ]
  },
  {
   "cell_type": "markdown",
   "metadata": {},
   "source": [
    "# Max-margin dataset"
   ]
  },
  {
   "cell_type": "code",
   "execution_count": 6,
   "metadata": {},
   "outputs": [],
   "source": [
    "new_dd = DatasetDict()\n",
    "new_dd[\"train\"] = ds\n",
    "for k in new_dd:\n",
    "    ds = new_dd[k]\n",
    "    items = []\n",
    "\n",
    "    for item in ds:\n",
    "        completions = sorted(item[\"completions\"], key=lambda x: x[\"overall_score\"], reverse=True)\n",
    "        if len(completions) < 2:\n",
    "            continue\n",
    "        \n",
    "        chosen, rejected = completions[0], completions[-1]\n",
    "\n",
    "        items.append({\n",
    "            \"instruction\": item[\"instruction\"],\n",
    "            \"chosen\": chosen[\"response\"],\n",
    "            \"chosen_critique\": chosen[\"critique\"],\n",
    "            \"chosen_score\": chosen[\"overall_score\"],\n",
    "            \"rejected\": rejected[\"response\"],\n",
    "            \"rejected_critique\": rejected[\"critique\"],\n",
    "            \"rejected_score\": rejected[\"overall_score\"],\n",
    "        })\n",
    "\n",
    "    new_dd[k] = Dataset.from_list(items)"
   ]
  },
  {
   "cell_type": "code",
   "execution_count": 7,
   "metadata": {},
   "outputs": [
    {
     "name": "stdout",
     "output_type": "stream",
     "text": [
      "DatasetDict({\n",
      "    train: Dataset({\n",
      "        features: ['instruction', 'chosen', 'chosen_critique', 'chosen_score', 'rejected', 'rejected_critique', 'rejected_score'],\n",
      "        num_rows: 63966\n",
      "    })\n",
      "})\n"
     ]
    },
    {
     "name": "stderr",
     "output_type": "stream",
     "text": [
      "Creating parquet from Arrow format: 100%|██████████| 64/64 [00:01<00:00, 48.24ba/s]\n",
      "Pushing dataset shards to the dataset hub: 100%|██████████| 1/1 [00:07<00:00,  7.22s/it]\n"
     ]
    }
   ],
   "source": [
    "print(new_dd)\n",
    "# pprint(new_dd['train'][0])\n",
    "new_dd.push_to_hub(\"heegyu/Ultrafeedback-max-margin-critique\")"
   ]
  },
  {
   "cell_type": "markdown",
   "metadata": {},
   "source": [
    "# Every Pair"
   ]
  },
  {
   "cell_type": "code",
   "execution_count": 20,
   "metadata": {},
   "outputs": [],
   "source": [
    "new_dd = DatasetDict()\n",
    "for k in dd:\n",
    "    ds = dd[k]\n",
    "    items = []\n",
    "\n",
    "    for item in ds:\n",
    "        completions = sorted(item[\"completions\"], key=lambda x: x[\"overall_score\"], reverse=True)\n",
    "        if len(completions) < 2:\n",
    "            continue\n",
    "        \n",
    "        for i, chosen in enumerate(completions[:-1]):\n",
    "            for rejected in completions[i + 1:]:\n",
    "                if abs(chosen[\"overall_score\"] - rejected[\"overall_score\"]) < 1.0:\n",
    "                    continue\n",
    "\n",
    "                items.append({\n",
    "                    \"instruction\": item[\"instruction\"],\n",
    "                    \"chosen\": chosen[\"response\"],\n",
    "                    \"chosen_critique\": chosen[\"critique\"],\n",
    "                    \"chosen_score\": chosen[\"overall_score\"],\n",
    "                    \"rejected\": rejected[\"response\"],\n",
    "                    \"rejected_critique\": rejected[\"critique\"],\n",
    "                    \"rejected_score\": rejected[\"overall_score\"],\n",
    "                })\n",
    "            chosen, rejected = completions[0], completions[-1]\n",
    "\n",
    "            items.append({\n",
    "                \"instruction\": item[\"instruction\"],\n",
    "                \"chosen\": chosen[\"response\"],\n",
    "                \"chosen_critique\": chosen[\"critique\"],\n",
    "                \"chosen_score\": chosen[\"overall_score\"],\n",
    "                \"rejected\": rejected[\"response\"],\n",
    "                \"rejected_critique\": rejected[\"critique\"],\n",
    "                \"rejected_score\": rejected[\"overall_score\"],\n",
    "            })\n",
    "\n",
    "    new_dd[k] = Dataset.from_list(items)"
   ]
  },
  {
   "cell_type": "code",
   "execution_count": 21,
   "metadata": {},
   "outputs": [
    {
     "name": "stdout",
     "output_type": "stream",
     "text": [
      "DatasetDict({\n",
      "    train: Dataset({\n",
      "        features: ['instruction', 'chosen', 'chosen_critique', 'chosen_score', 'rejected', 'rejected_critique', 'rejected_score'],\n",
      "        num_rows: 436176\n",
      "    })\n",
      "    test: Dataset({\n",
      "        features: ['instruction', 'chosen', 'chosen_critique', 'chosen_score', 'rejected', 'rejected_critique', 'rejected_score'],\n",
      "        num_rows: 6892\n",
      "    })\n",
      "})\n"
     ]
    }
   ],
   "source": [
    "print(new_dd)\n",
    "# pprint(new_dd['train'][0])\n",
    "# new_dd.push_to_hub(\"heegyu/Ultrafeedback-split-dpo-max-margin\")"
   ]
  },
  {
   "cell_type": "markdown",
   "metadata": {},
   "source": [
    "# Critique 생성"
   ]
  },
  {
   "cell_type": "code",
   "execution_count": 10,
   "metadata": {},
   "outputs": [],
   "source": [
    "new_dd = DatasetDict()\n",
    "for k in dd:\n",
    "    ds = dd[k]\n",
    "    items = []\n",
    "\n",
    "    for item in ds:\n",
    "        for response in item[\"completions\"]:\n",
    "            items.append({\n",
    "                \"instruction\": item[\"instruction\"],\n",
    "                \"output\": response[\"response\"],\n",
    "                \"critique\": response[\"critique\"],\n",
    "                \"overall_score\": response[\"overall_score\"]\n",
    "            })\n",
    "\n",
    "    new_dd[k] = Dataset.from_list(items)"
   ]
  },
  {
   "cell_type": "code",
   "execution_count": 11,
   "metadata": {},
   "outputs": [
    {
     "data": {
      "text/plain": [
       "DatasetDict({\n",
       "    train: Dataset({\n",
       "        features: ['instruction', 'output', 'critique', 'overall_score'],\n",
       "        num_rows: 251864\n",
       "    })\n",
       "    test: Dataset({\n",
       "        features: ['instruction', 'output', 'critique', 'overall_score'],\n",
       "        num_rows: 4000\n",
       "    })\n",
       "})"
      ]
     },
     "execution_count": 11,
     "metadata": {},
     "output_type": "execute_result"
    }
   ],
   "source": [
    "new_dd"
   ]
  },
  {
   "cell_type": "code",
   "execution_count": 12,
   "metadata": {},
   "outputs": [
    {
     "name": "stderr",
     "output_type": "stream",
     "text": [
      "Creating parquet from Arrow format: 100%|██████████| 126/126 [00:00<00:00, 130.86ba/s]\n",
      "Creating parquet from Arrow format: 100%|██████████| 126/126 [00:00<00:00, 131.69ba/s]t]\n",
      "Pushing dataset shards to the dataset hub: 100%|██████████| 2/2 [00:13<00:00,  6.78s/it]\n",
      "Creating parquet from Arrow format: 100%|██████████| 4/4 [00:00<00:00, 122.60ba/s]\n",
      "Pushing dataset shards to the dataset hub: 100%|██████████| 1/1 [00:00<00:00,  1.46it/s]\n"
     ]
    }
   ],
   "source": [
    "new_dd.push_to_hub(\"heegyu/Ultrafeedback-split-critiques\")"
   ]
  },
  {
   "cell_type": "code",
   "execution_count": null,
   "metadata": {},
   "outputs": [],
   "source": []
  }
 ],
 "metadata": {
  "kernelspec": {
   "display_name": "Python 3",
   "language": "python",
   "name": "python3"
  },
  "language_info": {
   "codemirror_mode": {
    "name": "ipython",
    "version": 3
   },
   "file_extension": ".py",
   "mimetype": "text/x-python",
   "name": "python",
   "nbconvert_exporter": "python",
   "pygments_lexer": "ipython3",
   "version": "3.10.12"
  }
 },
 "nbformat": 4,
 "nbformat_minor": 2
}
