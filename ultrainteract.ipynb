{
 "cells": [
  {
   "cell_type": "code",
   "execution_count": 1,
   "metadata": {},
   "outputs": [
    {
     "name": "stderr",
     "output_type": "stream",
     "text": [
      "/home/heekue83/.local/lib/python3.10/site-packages/tqdm/auto.py:22: TqdmWarning: IProgress not found. Please update jupyter and ipywidgets. See https://ipywidgets.readthedocs.io/en/stable/user_install.html\n",
      "  from .autonotebook import tqdm as notebook_tqdm\n",
      "Downloading readme: 100%|██████████| 7.63k/7.63k [00:00<00:00, 18.1MB/s]\n",
      "Downloading data: 100%|██████████| 259M/259M [00:02<00:00, 101MB/s]\n",
      "Downloading data files: 100%|██████████| 1/1 [00:04<00:00,  4.68s/it]\n",
      "Extracting data files: 100%|██████████| 1/1 [00:00<00:00, 1259.93it/s]\n",
      "Generating train split: 100%|██████████| 219522/219522 [00:01<00:00, 143839.44 examples/s]\n",
      "/home/heekue83/.local/lib/python3.10/site-packages/datasets/table.py:1421: FutureWarning: promote has been superseded by promote_options='default'.\n",
      "  table = cls._concat_blocks(blocks, axis=0)\n"
     ]
    }
   ],
   "source": [
    "from datasets import load_dataset\n",
    "\n",
    "dataset = load_dataset(\"openbmb/UltraInteract_pair\", split=\"train\")"
   ]
  },
  {
   "cell_type": "code",
   "execution_count": 21,
   "metadata": {},
   "outputs": [
    {
     "data": {
      "text/html": [
       "<div>\n",
       "<style scoped>\n",
       "    .dataframe tbody tr th:only-of-type {\n",
       "        vertical-align: middle;\n",
       "    }\n",
       "\n",
       "    .dataframe tbody tr th {\n",
       "        vertical-align: top;\n",
       "    }\n",
       "\n",
       "    .dataframe thead th {\n",
       "        text-align: right;\n",
       "    }\n",
       "</style>\n",
       "<table border=\"1\" class=\"dataframe\">\n",
       "  <thead>\n",
       "    <tr style=\"text-align: right;\">\n",
       "      <th></th>\n",
       "      <th>task</th>\n",
       "      <th>dataset</th>\n",
       "      <th>trajectory</th>\n",
       "      <th>chosen</th>\n",
       "      <th>rejected</th>\n",
       "      <th>id</th>\n",
       "      <th>parent_id</th>\n",
       "      <th>depth</th>\n",
       "      <th>parent_response</th>\n",
       "    </tr>\n",
       "  </thead>\n",
       "  <tbody>\n",
       "    <tr>\n",
       "      <th>0</th>\n",
       "      <td>Coding</td>\n",
       "      <td>codecontest</td>\n",
       "      <td>[{'from': 'user', 'value': 'Write Python code ...</td>\n",
       "      <td>Step 1:  This problem asks us to determine if ...</td>\n",
       "      <td>Step 1:  We need to determine if it is possibl...</td>\n",
       "      <td>390473b96c1696b6dda5bc62c6f6124651c7cf327c80df...</td>\n",
       "      <td>f0c215931a9f22324fc897d6d2fbe6ccb18688bf17cea6...</td>\n",
       "      <td>1</td>\n",
       "      <td>None</td>\n",
       "    </tr>\n",
       "    <tr>\n",
       "      <th>1</th>\n",
       "      <td>Coding</td>\n",
       "      <td>codecontest</td>\n",
       "      <td>[{'from': 'user', 'value': 'Write Python code ...</td>\n",
       "      <td>Step 1:  To solve this problem, we need to che...</td>\n",
       "      <td>Step 1:  We need to check if it's possible to ...</td>\n",
       "      <td>b5a8357b77d7599adf256586b94eaa76b77aecb106e20d...</td>\n",
       "      <td>f0c215931a9f22324fc897d6d2fbe6ccb18688bf17cea6...</td>\n",
       "      <td>1</td>\n",
       "      <td>None</td>\n",
       "    </tr>\n",
       "    <tr>\n",
       "      <th>2</th>\n",
       "      <td>Coding</td>\n",
       "      <td>codecontest</td>\n",
       "      <td>[{'from': 'user', 'value': 'Write Python code ...</td>\n",
       "      <td>Step 1:  To solve this problem, we need to che...</td>\n",
       "      <td>Step 1:  We need to determine if we can change...</td>\n",
       "      <td>ab7a69d361f06c74a45c56f1574ff0d8ab7ca83265b8a0...</td>\n",
       "      <td>f0c215931a9f22324fc897d6d2fbe6ccb18688bf17cea6...</td>\n",
       "      <td>1</td>\n",
       "      <td>None</td>\n",
       "    </tr>\n",
       "    <tr>\n",
       "      <th>3</th>\n",
       "      <td>Coding</td>\n",
       "      <td>codecontest</td>\n",
       "      <td>[{'from': 'user', 'value': 'Write Python code ...</td>\n",
       "      <td>Step 1:  To solve this problem, we need to det...</td>\n",
       "      <td>Step 1:  To solve this problem, we need to che...</td>\n",
       "      <td>4f760beff13ec9f6ea25096dcec05d29d6474c65bb3c57...</td>\n",
       "      <td>f0c215931a9f22324fc897d6d2fbe6ccb18688bf17cea6...</td>\n",
       "      <td>1</td>\n",
       "      <td>None</td>\n",
       "    </tr>\n",
       "    <tr>\n",
       "      <th>4</th>\n",
       "      <td>Coding</td>\n",
       "      <td>codecontest</td>\n",
       "      <td>[{'from': 'user', 'value': 'Write Python code ...</td>\n",
       "      <td>Step 1:  To solve this problem, we need to det...</td>\n",
       "      <td>Step 1:  We need to determine if we can change...</td>\n",
       "      <td>c561cfe06fa7057aa517a2175a969e03d4e1626ac9250e...</td>\n",
       "      <td>f0c215931a9f22324fc897d6d2fbe6ccb18688bf17cea6...</td>\n",
       "      <td>1</td>\n",
       "      <td>None</td>\n",
       "    </tr>\n",
       "  </tbody>\n",
       "</table>\n",
       "</div>"
      ],
      "text/plain": [
       "     task      dataset                                         trajectory  \\\n",
       "0  Coding  codecontest  [{'from': 'user', 'value': 'Write Python code ...   \n",
       "1  Coding  codecontest  [{'from': 'user', 'value': 'Write Python code ...   \n",
       "2  Coding  codecontest  [{'from': 'user', 'value': 'Write Python code ...   \n",
       "3  Coding  codecontest  [{'from': 'user', 'value': 'Write Python code ...   \n",
       "4  Coding  codecontest  [{'from': 'user', 'value': 'Write Python code ...   \n",
       "\n",
       "                                              chosen  \\\n",
       "0  Step 1:  This problem asks us to determine if ...   \n",
       "1  Step 1:  To solve this problem, we need to che...   \n",
       "2  Step 1:  To solve this problem, we need to che...   \n",
       "3  Step 1:  To solve this problem, we need to det...   \n",
       "4  Step 1:  To solve this problem, we need to det...   \n",
       "\n",
       "                                            rejected  \\\n",
       "0  Step 1:  We need to determine if it is possibl...   \n",
       "1  Step 1:  We need to check if it's possible to ...   \n",
       "2  Step 1:  We need to determine if we can change...   \n",
       "3  Step 1:  To solve this problem, we need to che...   \n",
       "4  Step 1:  We need to determine if we can change...   \n",
       "\n",
       "                                                  id  \\\n",
       "0  390473b96c1696b6dda5bc62c6f6124651c7cf327c80df...   \n",
       "1  b5a8357b77d7599adf256586b94eaa76b77aecb106e20d...   \n",
       "2  ab7a69d361f06c74a45c56f1574ff0d8ab7ca83265b8a0...   \n",
       "3  4f760beff13ec9f6ea25096dcec05d29d6474c65bb3c57...   \n",
       "4  c561cfe06fa7057aa517a2175a969e03d4e1626ac9250e...   \n",
       "\n",
       "                                           parent_id  depth parent_response  \n",
       "0  f0c215931a9f22324fc897d6d2fbe6ccb18688bf17cea6...      1            None  \n",
       "1  f0c215931a9f22324fc897d6d2fbe6ccb18688bf17cea6...      1            None  \n",
       "2  f0c215931a9f22324fc897d6d2fbe6ccb18688bf17cea6...      1            None  \n",
       "3  f0c215931a9f22324fc897d6d2fbe6ccb18688bf17cea6...      1            None  \n",
       "4  f0c215931a9f22324fc897d6d2fbe6ccb18688bf17cea6...      1            None  "
      ]
     },
     "metadata": {},
     "output_type": "display_data"
    }
   ],
   "source": [
    "df = dataset.to_pandas()\n",
    "df[\"depth\"] = df.trajectory.apply(lambda x: len(x))\n",
    "df[\"parent_response\"] = df.trajectory.apply(lambda x: x[-2]['value'] if len(x) > 1 else None)\n",
    "display(df.head())\n",
    "# df = df[df.trajectory.apply(lambda x: len(x) == 3)]\n",
    "# df.shape"
   ]
  },
  {
   "cell_type": "code",
   "execution_count": 22,
   "metadata": {},
   "outputs": [
    {
     "data": {
      "text/plain": [
       "(64700,)"
      ]
     },
     "execution_count": 22,
     "metadata": {},
     "output_type": "execute_result"
    }
   ],
   "source": [
    "df.parent_id.unique().shape"
   ]
  },
  {
   "cell_type": "code",
   "execution_count": 23,
   "metadata": {},
   "outputs": [
    {
     "data": {
      "text/plain": [
       "trajectory\n",
       "1     0.726105\n",
       "3     0.117346\n",
       "5     0.069401\n",
       "7     0.048660\n",
       "9     0.038484\n",
       "11    0.000005\n",
       "Name: proportion, dtype: float64"
      ]
     },
     "execution_count": 23,
     "metadata": {},
     "output_type": "execute_result"
    }
   ],
   "source": [
    "df.trajectory.apply(len).value_counts(normalize=True)"
   ]
  },
  {
   "cell_type": "code",
   "execution_count": 24,
   "metadata": {},
   "outputs": [
    {
     "name": "stdout",
     "output_type": "stream",
     "text": [
      "ba1194c98df0b3e32560155074c5b1ca8ed80601b935bd177df550e17caf859d\n"
     ]
    },
    {
     "data": {
      "text/html": [
       "<div>\n",
       "<style scoped>\n",
       "    .dataframe tbody tr th:only-of-type {\n",
       "        vertical-align: middle;\n",
       "    }\n",
       "\n",
       "    .dataframe tbody tr th {\n",
       "        vertical-align: top;\n",
       "    }\n",
       "\n",
       "    .dataframe thead th {\n",
       "        text-align: right;\n",
       "    }\n",
       "</style>\n",
       "<table border=\"1\" class=\"dataframe\">\n",
       "  <thead>\n",
       "    <tr style=\"text-align: right;\">\n",
       "      <th></th>\n",
       "      <th>task</th>\n",
       "      <th>dataset</th>\n",
       "      <th>trajectory</th>\n",
       "      <th>chosen</th>\n",
       "      <th>rejected</th>\n",
       "      <th>id</th>\n",
       "      <th>parent_id</th>\n",
       "      <th>depth</th>\n",
       "      <th>parent_response</th>\n",
       "    </tr>\n",
       "  </thead>\n",
       "  <tbody>\n",
       "    <tr>\n",
       "      <th>219223</th>\n",
       "      <td>Logic</td>\n",
       "      <td>strategyqa</td>\n",
       "      <td>[{'from': 'user', 'value': 'Tool available:\n",
       "[1...</td>\n",
       "      <td>Step 1: From the information we found, the Pal...</td>\n",
       "      <td>Step 1: I will guess that Cookie Monster's die...</td>\n",
       "      <td>ba1194c98df0b3e32560155074c5b1ca8ed80601b935bd...</td>\n",
       "      <td>ba1194c98df0b3e32560155074c5b1ca8ed80601b935bd...</td>\n",
       "      <td>3</td>\n",
       "      <td>Step 1: Let me check if Cookie Monster's main ...</td>\n",
       "    </tr>\n",
       "  </tbody>\n",
       "</table>\n",
       "</div>"
      ],
      "text/plain": [
       "         task     dataset                                         trajectory  \\\n",
       "219223  Logic  strategyqa  [{'from': 'user', 'value': 'Tool available:\n",
       "[1...   \n",
       "\n",
       "                                                   chosen  \\\n",
       "219223  Step 1: From the information we found, the Pal...   \n",
       "\n",
       "                                                 rejected  \\\n",
       "219223  Step 1: I will guess that Cookie Monster's die...   \n",
       "\n",
       "                                                       id  \\\n",
       "219223  ba1194c98df0b3e32560155074c5b1ca8ed80601b935bd...   \n",
       "\n",
       "                                                parent_id  depth  \\\n",
       "219223  ba1194c98df0b3e32560155074c5b1ca8ed80601b935bd...      3   \n",
       "\n",
       "                                          parent_response  \n",
       "219223  Step 1: Let me check if Cookie Monster's main ...  "
      ]
     },
     "execution_count": 24,
     "metadata": {},
     "output_type": "execute_result"
    }
   ],
   "source": [
    "sample1 = df[df.depth == 3].sample(1)\n",
    "print(sample1.parent_id.values[0])\n",
    "sample1"
   ]
  },
  {
   "cell_type": "code",
   "execution_count": 27,
   "metadata": {},
   "outputs": [
    {
     "data": {
      "text/html": [
       "<div>\n",
       "<style scoped>\n",
       "    .dataframe tbody tr th:only-of-type {\n",
       "        vertical-align: middle;\n",
       "    }\n",
       "\n",
       "    .dataframe tbody tr th {\n",
       "        vertical-align: top;\n",
       "    }\n",
       "\n",
       "    .dataframe thead th {\n",
       "        text-align: right;\n",
       "    }\n",
       "</style>\n",
       "<table border=\"1\" class=\"dataframe\">\n",
       "  <thead>\n",
       "    <tr style=\"text-align: right;\">\n",
       "      <th></th>\n",
       "      <th>task</th>\n",
       "      <th>dataset</th>\n",
       "      <th>trajectory</th>\n",
       "      <th>chosen</th>\n",
       "      <th>rejected</th>\n",
       "      <th>id</th>\n",
       "      <th>parent_id</th>\n",
       "      <th>depth</th>\n",
       "      <th>parent_response</th>\n",
       "    </tr>\n",
       "  </thead>\n",
       "  <tbody>\n",
       "    <tr>\n",
       "      <th>219223</th>\n",
       "      <td>Logic</td>\n",
       "      <td>strategyqa</td>\n",
       "      <td>[{'from': 'user', 'value': 'Tool available:\n",
       "[1...</td>\n",
       "      <td>Step 1: From the information we found, the Pal...</td>\n",
       "      <td>Step 1: I will guess that Cookie Monster's die...</td>\n",
       "      <td>ba1194c98df0b3e32560155074c5b1ca8ed80601b935bd...</td>\n",
       "      <td>ba1194c98df0b3e32560155074c5b1ca8ed80601b935bd...</td>\n",
       "      <td>3</td>\n",
       "      <td>Step 1: Let me check if Cookie Monster's main ...</td>\n",
       "    </tr>\n",
       "  </tbody>\n",
       "</table>\n",
       "</div>"
      ],
      "text/plain": [
       "         task     dataset                                         trajectory  \\\n",
       "219223  Logic  strategyqa  [{'from': 'user', 'value': 'Tool available:\n",
       "[1...   \n",
       "\n",
       "                                                   chosen  \\\n",
       "219223  Step 1: From the information we found, the Pal...   \n",
       "\n",
       "                                                 rejected  \\\n",
       "219223  Step 1: I will guess that Cookie Monster's die...   \n",
       "\n",
       "                                                       id  \\\n",
       "219223  ba1194c98df0b3e32560155074c5b1ca8ed80601b935bd...   \n",
       "\n",
       "                                                parent_id  depth  \\\n",
       "219223  ba1194c98df0b3e32560155074c5b1ca8ed80601b935bd...      3   \n",
       "\n",
       "                                          parent_response  \n",
       "219223  Step 1: Let me check if Cookie Monster's main ...  "
      ]
     },
     "execution_count": 27,
     "metadata": {},
     "output_type": "execute_result"
    }
   ],
   "source": [
    "df[sample1.parent_id.values[0] == df.parent_id]\n",
    "# sample1.trajectory.values[0]"
   ]
  },
  {
   "cell_type": "code",
   "execution_count": 33,
   "metadata": {},
   "outputs": [
    {
     "data": {
      "text/plain": [
       "(25760, 9)"
      ]
     },
     "execution_count": 33,
     "metadata": {},
     "output_type": "execute_result"
    }
   ],
   "source": [
    "# df[df.depth == 1].shape\n",
    "# df[df.depth == 3].parent_id.unique().shape"
   ]
  },
  {
   "cell_type": "code",
   "execution_count": 30,
   "metadata": {},
   "outputs": [
    {
     "data": {
      "text/plain": [
       "array(['f0c215931a9f22324fc897d6d2fbe6ccb18688bf17cea67c26d259b679173521',\n",
       "       'f0c215931a9f22324fc897d6d2fbe6ccb18688bf17cea67c26d259b679173521',\n",
       "       'f0c215931a9f22324fc897d6d2fbe6ccb18688bf17cea67c26d259b679173521'],\n",
       "      dtype=object)"
      ]
     },
     "execution_count": 30,
     "metadata": {},
     "output_type": "execute_result"
    }
   ],
   "source": [
    "df[(df.parent_id == \"f0c215931a9f22324fc897d6d2fbe6ccb18688bf17cea67c26d259b679173521\") & (df.depth >= 3)].parent_id.values"
   ]
  },
  {
   "cell_type": "code",
   "execution_count": 42,
   "metadata": {},
   "outputs": [
    {
     "data": {
      "text/plain": [
       "{'parent': {'task': 'Coding',\n",
       "  'dataset': 'TACO',\n",
       "  'trajectory': array([{'from': 'user', 'value': 'Write Python code to solve the task:\\nYour task is to write a function that does just what the title suggests (so, fair warning, be aware that you are not getting out of it just throwing a lame bas sorting method there) with an array/list/vector of integers and the expected number `n` of smallest elements to return.\\n\\nAlso:\\n\\n* the number of elements to be returned cannot be higher than the array/list/vector length;\\n* elements can be duplicated;\\n* in case of duplicates, just return them according to the original order (see third example for more clarity).\\n\\nSame examples and more in the test cases:\\n\\n```python\\nfirst_n_smallest([1,2,3,4,5],3) == [1,2,3]\\nfirst_n_smallest([5,4,3,2,1],3) == [3,2,1]\\nfirst_n_smallest([1,2,3,4,1],3) == [1,2,1]\\nfirst_n_smallest([1,2,3,-4,0],3) == [1,-4,0]\\nfirst_n_smallest([1,2,3,4,5],0) == []\\n```\\n\\n[Performance version by FArekkusu](https://www.codewars.com/kata/5aeed69804a92621a7000077) also available.'}],\n",
       "        dtype=object),\n",
       "  'chosen': \"Step 1:  The function is expected to return the first 'n' smallest integers from an array, in their original order.\\nStep 2:  We need to find a way to sort the array while keeping track of the original indexes of elements.\\nStep 3:  However, simply sorting the array won't work because we need to maintain the original order in case of duplicates.\\nStep 4:  One approach could be to sort the array along with their original indexes, then extract the first 'n' elements based on this sorting, but return them according to their original indexing order.\\nStep 5:  Since we're asked to keep duplicate values based on their original order, sorting the whole array isn't efficient or straightforward for the problem's constraints.\\nStep 6:  A better idea is to create a sorted copy of the array to identify the 'n' smallest values, then iterate through the original array, adding elements to the result if they're in the 'n' smallest values, while also ensuring we don't add more than the original counts of those 'n' smallest values.\\nStep 7:  This approach avoids the complexities of sorting with original indexes and directly focuses on the elements' values and their counts.\\n```python\\n# Step 8:  Define the function with arr (the array from which to find the 'n' smallest elements) and n (the number of smallest elements to return) as parameters.\\ndef first_n_smallest(arr, n):\\n    # Step 9:  Create a copy of the original array and sort it to find the 'n' smallest elements.\\n    \\n    sorted_arr = sorted(arr)[:n]\\n    # Step 10:  Create a dictionary to keep track of the count of the 'n' smallest elements in the sorted array.\\n    \\n    smallest_counts = {}\\n    for i in sorted_arr:\\n        # Step 11:  Update the count for each element in the sorted array.\\n        \\n        if i in smallest_counts:\\n            smallest_counts[i] += 1\\n        else:\\n            smallest_counts[i] = 1\\n    \\n    result = []\\n    for element in arr:\\n        # Step 12:  Check if the element is in the smallest_counts and has a count more than 0, then add to result.\\n        \\n        if element in smallest_counts and smallest_counts[element] > 0:\\n            result.append(element)\\n            # Step 13:  Decrease the count of the element in smallest_counts, indicating we've added one occurrence of it.\\n            \\n            smallest_counts[element] -= 1\\n        # Step 14:  If the length of the result equals n, break the loop as we have found our first n smallest elements.\\n        \\n        if len(result) == n:\\n            break\\n            \\n    # Step 15:  Return the result which contains the first n smallest elements in their original order.\\n    \\n    return result\\n\\n```\",\n",
       "  'rejected': \"Step 1: Start by sorting the input array in ascending order.\\nStep 2: Extract the first 'n' elements from the sorted array.\\nStep 3: Return the extracted elements as the result.\\n\\n\\n```python\\n# Step 4: Sort the input array in ascending order\\n\\n\\ndef first_n_smallest(arr, n):\\n    arr.sort()\\n    # Step 5: Extract the first 'n' elements from the sorted array\\n    result = arr[:n]\\n    # Step 6: Return the extracted elements as the result\\n    return result\\n```\",\n",
       "  'id': '0002d9a8e45a03a94ba95f21a72beeeb4f6707a8abfd19141f9338ed24d7122f_5_1',\n",
       "  'parent_id': '0002d9a8e45a03a94ba95f21a72beeeb4f6707a8abfd19141f9338ed24d7122f',\n",
       "  'depth': 1},\n",
       " 'child': {'task': 'Coding',\n",
       "  'dataset': 'TACO',\n",
       "  'trajectory': array([{'from': 'user', 'value': 'Write Python code to solve the task:\\nYour task is to write a function that does just what the title suggests (so, fair warning, be aware that you are not getting out of it just throwing a lame bas sorting method there) with an array/list/vector of integers and the expected number `n` of smallest elements to return.\\n\\nAlso:\\n\\n* the number of elements to be returned cannot be higher than the array/list/vector length;\\n* elements can be duplicated;\\n* in case of duplicates, just return them according to the original order (see third example for more clarity).\\n\\nSame examples and more in the test cases:\\n\\n```python\\nfirst_n_smallest([1,2,3,4,5],3) == [1,2,3]\\nfirst_n_smallest([5,4,3,2,1],3) == [3,2,1]\\nfirst_n_smallest([1,2,3,4,1],3) == [1,2,1]\\nfirst_n_smallest([1,2,3,-4,0],3) == [1,-4,0]\\nfirst_n_smallest([1,2,3,4,5],0) == []\\n```\\n\\n[Performance version by FArekkusu](https://www.codewars.com/kata/5aeed69804a92621a7000077) also available.'},\n",
       "         {'from': 'assistant', 'value': \"Step 1: Start by sorting the input array in ascending order.\\nStep 2: Extract the first 'n' elements from the sorted array.\\nStep 3: Return the extracted elements as the result.\\n\\n\\n```python\\n# Step 4: Sort the input array in ascending order\\n\\n\\ndef first_n_smallest(arr, n):\\n    arr.sort()\\n    # Step 5: Extract the first 'n' elements from the sorted array\\n    result = arr[:n]\\n    # Step 6: Return the extracted elements as the result\\n    return result\\n```\"},\n",
       "         {'from': 'user', 'value': \"Your answer is wrong.\\nYour solution is incorrect. The problem specifically states that in case of duplicates, the elements have to be returned according to the original order. Your solution doesn't maintain the positional order, since sorting modifies the original order of elements. You need to find a different way of selecting the 'n' smallest values, which ensures that the original order of elements is preserved even in case of duplicates.\\n\\n\\n \"}],\n",
       "        dtype=object),\n",
       "  'chosen': \"Step 1:  The task is to find the first n smallest elements in an array while preserving their original order.\\nStep 2:  To achieve this, we need to first identify the n smallest elements. One way to do this is to sort a copy of the list while maintaining references to the original indexes of elements.\\nStep 3:  However, since the original order of these smallest elements is crucial, sorting the whole array would not be efficient or directly helpful. Instead, we could sort only a copy of the unique elements to find out which are the n smallest ones, and then select these from the original array.\\nStep 4:  A more efficient and straightforward way would be to use the `sorted()` function to create a sorted copy of the array and then keep the first n elements from this sorted list. \\nStep 5:  Subsequently, we loop through the original array and include elements in the result if they're in the selected n smallest elements, taking care to decrement a count each time one of these elements is added to the result to handle duplicates correctly.\\nStep 6:  We also need to consider the case when n is 0 or larger than the array size.\\nStep 7:  Performance could be a concern depending on the size of the input array and the value of n. For very large arrays, a more sophisticated approach might be required.\\n```python\\n# Step 8:  Define a function to find the n smallest elements in an array while preserving their original order\\ndef first_n_smallest(arr, n):\\n    # Step 9:  Check if n is 0, return an empty list immediately\\n    \\n    if n == 0:\\n        return []\\n\\n    # Step 10:  Create a sorted copy of the array to identify the n smallest elements\\n    \\n    sorted_elements = sorted(arr)[:n]\\n\\n    # Step 11:  Create a list to store the result\\n    \\n    result = []\\n    # Step 12:  Use a dictionary to store counts of the n smallest elements\\n    \\n    element_counts = {}\\n    for element in sorted_elements:\\n        if element in element_counts:\\n            element_counts[element] += 1\\n        else:\\n            element_counts[element] = 1\\n\\n    # Step 13:  Iterate through the original array\\n    \\n    for element in arr:\\n        # Step 14:  Check if the element is one of the n smallest and it has not been added more times than it appears in the n smallest list\\n        \\n        if element in element_counts and element_counts[element] > 0:\\n            result.append(element)\\n            # Step 15:  Decrement the count to ensure duplicates are handled correctly\\n            \\n            element_counts[element] -= 1\\n        # Step 16:  Break the loop if the result list has reached the desired size\\n        \\n        if len(result) == n:\\n            break\\n\\n    # Step 17:  Return the results\\n    \\n    return result\\n\\n```\",\n",
       "  'rejected': \"Step 1: Start by creating a new empty list, 'result', to store the first 'n' smallest elements.\\nStep 2: Iterate through the elements of the input array, one by one, in their original order.\\nStep 3: Check if the current element is smaller than or equal to the maximum element in the 'result' list.\\nStep 4: If it is, append the current element to the 'result' list.\\nStep 5: If the length of the 'result' list is equal to 'n', we have found the 'n' smallest elements, so we can stop iterating.\\nStep 6: Finally, return the 'result' list as the output.\\n\\n\\n```python\\n# Step 7: Create a new empty list, 'result'\\n\\n\\n\\ndef first_n_smallest(arr, n):\\n    result = []\\n    # Step 8: Iterate through the elements of the input array, one by one, in their original order\\n    for num in arr:\\n        # Step 9: Check if the current element is smaller than or equal to the maximum element in the 'result' list\\n        if num <= max(result) or len(result) < n:\\n            # Step 10:  If it is, append the current element to the 'result' list\\n            result.append(num)\\n        # Step 11:  If the length of the 'result' list is equal to 'n', we have found the 'n' smallest elements, stop iterating\\n        if len(result) == n:\\n            break\\n    # Step 12:  Return the 'result' list as the output\\n    return result\\n```\",\n",
       "  'id': '0002d9a8e45a03a94ba95f21a72beeeb4f6707a8abfd19141f9338ed24d7122f_5_2',\n",
       "  'parent_id': '0002d9a8e45a03a94ba95f21a72beeeb4f6707a8abfd19141f9338ed24d7122f',\n",
       "  'depth': 3}}"
      ]
     },
     "execution_count": 42,
     "metadata": {},
     "output_type": "execute_result"
    }
   ],
   "source": [
    "subtrees = []\n",
    "\n",
    "for parent_id, subdf in df.groupby(\"parent_id\"):\n",
    "    if subdf.depth.max() == 1:\n",
    "        continue\n",
    "\n",
    "    for i, row in subdf.iterrows():\n",
    "        for j, child in subdf[subdf.depth > row.depth].iterrows():\n",
    "            if row.rejected == child.parent_response:\n",
    "                # print(\"===\" * 15)\n",
    "                # print(row)\n",
    "                # print(child)\n",
    "                # print()\n",
    "\n",
    "                subtree = {\n",
    "                    \"parent\": row.to_dict(),\n",
    "                    \"child\": child.to_dict()\n",
    "                }\n",
    "                subtree['parent'].pop(\"parent_response\")\n",
    "                subtree['child'].pop(\"parent_response\")\n",
    "                subtrees.append(subtree)\n",
    "    \n",
    "subtrees[0]"
   ]
  },
  {
   "cell_type": "code",
   "execution_count": 43,
   "metadata": {},
   "outputs": [
    {
     "data": {
      "text/plain": [
       "59603"
      ]
     },
     "execution_count": 43,
     "metadata": {},
     "output_type": "execute_result"
    }
   ],
   "source": [
    "len(subtrees)"
   ]
  },
  {
   "cell_type": "code",
   "execution_count": 44,
   "metadata": {},
   "outputs": [
    {
     "name": "stderr",
     "output_type": "stream",
     "text": [
      "Creating parquet from Arrow format: 100%|██████████| 30/30 [00:00<00:00, 38.55ba/s]\n",
      "Creating parquet from Arrow format: 100%|██████████| 30/30 [00:00<00:00, 38.23ba/s]s/it]\n",
      "Pushing dataset shards to the dataset hub: 100%|██████████| 2/2 [00:08<00:00,  4.33s/it]\n"
     ]
    }
   ],
   "source": [
    "from datasets import Dataset\n",
    "\n",
    "subtree_ds = Dataset.from_list(subtrees)\n",
    "subtree_ds.push_to_hub(\"heegyu/UltraInteract_pair_subtree\")"
   ]
  }
 ],
 "metadata": {
  "kernelspec": {
   "display_name": "Python 3",
   "language": "python",
   "name": "python3"
  },
  "language_info": {
   "codemirror_mode": {
    "name": "ipython",
    "version": 3
   },
   "file_extension": ".py",
   "mimetype": "text/x-python",
   "name": "python",
   "nbconvert_exporter": "python",
   "pygments_lexer": "ipython3",
   "version": "3.10.12"
  }
 },
 "nbformat": 4,
 "nbformat_minor": 2
}
